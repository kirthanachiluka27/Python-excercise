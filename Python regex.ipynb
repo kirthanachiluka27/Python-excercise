{
 "cells": [
  {
   "cell_type": "raw",
   "id": "935c613b",
   "metadata": {},
   "source": [
    "You are given a string S .\n",
    "Your task is to find the first occurrence of an alphanumeric character in  S (read from left to right) that has consecutive repetitions."
   ]
  },
  {
   "cell_type": "code",
   "execution_count": 2,
   "id": "d7e3a708",
   "metadata": {},
   "outputs": [
    {
     "name": "stdout",
     "output_type": "stream",
     "text": [
      "4444444444445111111111111116844333222211\n",
      "4\n"
     ]
    }
   ],
   "source": [
    "import re\n",
    "x=r\"([a-zA-Z0-9])\\1+\"\n",
    "\n",
    "m = re.search(x,input())\n",
    "\n",
    "if m:\n",
    "    print(m.group(1))\n",
    "else:\n",
    "    print(-1)"
   ]
  },
  {
   "cell_type": "raw",
   "id": "85cf51c2",
   "metadata": {},
   "source": [
    "You are given a string  S. It consists 2 of alphanumeric characters, spaces and symbols(+,-).\n",
    "Your task is to find all the substrings of S  that contains  or more vowels.\n",
    "Also, these substrings must lie in between 2 consonants and should contain vowels only."
   ]
  },
  {
   "cell_type": "code",
   "execution_count": 7,
   "id": "4807ec1b",
   "metadata": {},
   "outputs": [
    {
     "name": "stdout",
     "output_type": "stream",
     "text": [
      "rabcdeefgyYhFjkIoomnpOeorteeeeet\n",
      "ee\n",
      "Ioo\n",
      "Oeo\n",
      "eeeee\n"
     ]
    }
   ],
   "source": [
    "import re\n",
    "Storage = re.findall(r'(?<=[abcdefghijklmnopqrstuvwxyz])([aeiou]{2,})(?=[abcdefghijklmnopqrstuvwxyz])', input().strip(), re.IGNORECASE)\n",
    "\n",
    "if Storage:\n",
    "    for i in Storage:\n",
    "        print(i)\n",
    "else:\n",
    "    print(-1)"
   ]
  },
  {
   "cell_type": "raw",
   "id": "d4b14c77",
   "metadata": {},
   "source": [
    "You are given a string S.\n",
    "Your task is to find the indices of the start and end of string K in S."
   ]
  },
  {
   "cell_type": "code",
   "execution_count": 8,
   "id": "d7270a5e",
   "metadata": {},
   "outputs": [
    {
     "name": "stdout",
     "output_type": "stream",
     "text": [
      "aaaaaaadddaaaaa\n",
      "aaa\n",
      "(0, 2)\n",
      "(1, 3)\n",
      "(2, 4)\n",
      "(3, 5)\n",
      "(4, 6)\n",
      "(10, 12)\n",
      "(11, 13)\n",
      "(12, 14)\n"
     ]
    }
   ],
   "source": [
    "import re\n",
    "S, k = input(), input()\n",
    "matches = re.finditer(r'(?=(' + k + '))', S)\n",
    "\n",
    "anymatch = False\n",
    "for match in matches:\n",
    "    anymatch = True\n",
    "    print((match.start(1), match.end(1) - 1))\n",
    "\n",
    "if anymatch == False:\n",
    "    print((-1, -1))"
   ]
  }
 ],
 "metadata": {
  "kernelspec": {
   "display_name": "Python 3 (ipykernel)",
   "language": "python",
   "name": "python3"
  },
  "language_info": {
   "codemirror_mode": {
    "name": "ipython",
    "version": 3
   },
   "file_extension": ".py",
   "mimetype": "text/x-python",
   "name": "python",
   "nbconvert_exporter": "python",
   "pygments_lexer": "ipython3",
   "version": "3.9.12"
  }
 },
 "nbformat": 4,
 "nbformat_minor": 5
}
