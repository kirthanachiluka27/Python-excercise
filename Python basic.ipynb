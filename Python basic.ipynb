{
 "cells": [
  {
   "cell_type": "markdown",
   "id": "219eda02",
   "metadata": {},
   "source": [
    "# HackerRank Task1"
   ]
  },
  {
   "cell_type": "raw",
   "id": "ee197c3a",
   "metadata": {},
   "source": [
    "1)Here is a sample line of code that can be executed in Python:\n",
    "\n",
    "print(\"Hello, World!\")\n",
    "You can just as easily store a string as a variable and then print it to stdout:\n",
    "\n",
    "my_string = \"Hello, World!\"\n",
    "print(my_string)\n",
    "The above code will print Hello, World! on your screen. Try it yourself in the editor below!"
   ]
  },
  {
   "cell_type": "code",
   "execution_count": 36,
   "id": "cbd0c786",
   "metadata": {},
   "outputs": [
    {
     "name": "stdout",
     "output_type": "stream",
     "text": [
      "Hello, World!\n"
     ]
    }
   ],
   "source": [
    "my_string = \"Hello, World!\"\n",
    "print(my_string)"
   ]
  },
  {
   "cell_type": "raw",
   "id": "f367081a",
   "metadata": {},
   "source": [
    "2)Task\n",
    "Given an integer, , perform the following conditional actions:\n",
    "\n",
    "If  n is odd, print Weird\n",
    "If  n is even and in the inclusive range of  to , print Not Weird\n",
    "If  n is even and in the inclusive range of  to , print Weird\n",
    "If  n is even and greater than , print Not Weird"
   ]
  },
  {
   "cell_type": "code",
   "execution_count": 37,
   "id": "b11f075c",
   "metadata": {},
   "outputs": [
    {
     "name": "stdout",
     "output_type": "stream",
     "text": [
      "4\n",
      "Not Weird\n"
     ]
    }
   ],
   "source": [
    "#if __name__ == '__main__':\n",
    "n = int(input().strip())\n",
    "if n%2!=0:\n",
    "    print(\"Weird\")\n",
    "elif n%2==0 and n>2 and n<5:\n",
    "    print(\"Not Weird\")\n",
    "elif n%2==0 and n>6 and n<20:\n",
    "    print(\"Weird\")\n",
    "elif n%2==0 and n>20:\n",
    "    print(\"Not Weird\")\n"
   ]
  },
  {
   "cell_type": "raw",
   "id": "e597fb09",
   "metadata": {},
   "source": [
    "3)Task\n",
    "The provided code stub reads two integers from STDIN,  and . Add code to print three lines where:\n",
    "\n",
    "The first line contains the sum of the two numbers.\n",
    "The second line contains the difference of the two numbers (first - second).\n",
    "The third line contains the product of the two numbers.\n",
    "Example\n",
    "\n",
    "\n"
   ]
  },
  {
   "cell_type": "code",
   "execution_count": 38,
   "id": "17f372dc",
   "metadata": {},
   "outputs": [
    {
     "name": "stdout",
     "output_type": "stream",
     "text": [
      "Enter number3\n",
      "Enter number4\n",
      "Sum of a and b 7\n",
      "Difference of a and b -1\n",
      "Product of a and b 12\n"
     ]
    }
   ],
   "source": [
    "a = int(input(\"Enter number\"))\n",
    "b = int(input(\"Enter number\"))\n",
    "print(\"Sum of a and b\",a+b)\n",
    "print(\"Difference of a and b\",a-b)\n",
    "print(\"Product of a and b\",a*b)\n"
   ]
  },
  {
   "cell_type": "raw",
   "id": "e7c23579",
   "metadata": {},
   "source": [
    "4)Task\n",
    "The provided code stub reads two integers,  and , from STDIN.\n",
    "\n",
    "Add logic to print two lines. The first line should contain the result of integer division, a //b . The second line should contain the result of float division,  a/b .\n",
    "\n",
    "No rounding or formatting is necessary."
   ]
  },
  {
   "cell_type": "code",
   "execution_count": 39,
   "id": "55c03fdb",
   "metadata": {},
   "outputs": [
    {
     "name": "stdout",
     "output_type": "stream",
     "text": [
      "enter the number4\n",
      "enter the number3\n",
      "1.3333333333333333\n",
      "1\n"
     ]
    }
   ],
   "source": [
    "a=int(input(\"enter the number\"))\n",
    "b=int(input(\"enter the number\"))\n",
    "print(a/b)\n",
    "print(a//b)"
   ]
  },
  {
   "cell_type": "raw",
   "id": "58a23de8",
   "metadata": {},
   "source": [
    "5)Task\n",
    "The provided code stub reads and integer,n , from STDIN. For all non-negative integers i<n, print i*2 ."
   ]
  },
  {
   "cell_type": "code",
   "execution_count": 40,
   "id": "b7c2eb67",
   "metadata": {},
   "outputs": [
    {
     "name": "stdout",
     "output_type": "stream",
     "text": [
      "5\n",
      "0\n",
      "1\n",
      "4\n",
      "9\n",
      "16\n"
     ]
    }
   ],
   "source": [
    "n = int(input())\n",
    "for i in range(n):\n",
    "    print(i*i)\n"
   ]
  },
  {
   "cell_type": "raw",
   "id": "af6ccf50",
   "metadata": {},
   "source": [
    "6)An extra day is added to the calendar almost every four years as February 29, and the day is called a leap day. It corrects the calendar for the fact that our planet takes approximately 365.25 days to orbit the sun. A leap year contains a leap day.\n",
    "\n",
    "In the Gregorian calendar, three conditions are used to identify leap years:\n",
    "\n",
    "The year can be evenly divided by 4, is a leap year, unless:\n",
    "The year can be evenly divided by 100, it is NOT a leap year, unless:\n",
    "The year is also evenly divisible by 400. Then it is a leap year.\n",
    "This means that in the Gregorian calendar, the years 2000 and 2400 are leap years, while 1800, 1900, 2100, 2200, 2300 and 2500 are NOT leap years.\n",
    "Task\n",
    "\n",
    "Given a year, determine whether it is a leap year. If it is a leap year, return the Boolean True, otherwise return False.\n",
    "\n",
    "Note that the code stub provided reads from STDIN and passes arguments to the is_leap function. It is only necessary to complete the is_leap function."
   ]
  },
  {
   "cell_type": "code",
   "execution_count": 41,
   "id": "a3ff60c5",
   "metadata": {},
   "outputs": [],
   "source": [
    "def is_leap(year):\n",
    "    leap = False\n",
    "    if  year%400==0:\n",
    "        print(\"its a leap year\")\n",
    "        leap =True\n",
    "    elif year%4==0 and year %100!=0:\n",
    "        print(\"its a leap year\")\n",
    "        leap=True\n",
    "    return leap\n"
   ]
  },
  {
   "cell_type": "code",
   "execution_count": 42,
   "id": "bc88c3d5",
   "metadata": {},
   "outputs": [
    {
     "name": "stdout",
     "output_type": "stream",
     "text": [
      "2000\n",
      "its a leap year\n",
      "True\n"
     ]
    }
   ],
   "source": [
    "year = int(input())\n",
    "print(is_leap(year))"
   ]
  },
  {
   "cell_type": "code",
   "execution_count": 43,
   "id": "0e56e3ba",
   "metadata": {},
   "outputs": [
    {
     "name": "stdout",
     "output_type": "stream",
     "text": [
      "1900\n",
      "False\n"
     ]
    }
   ],
   "source": [
    "year = int(input())\n",
    "print(is_leap(year))"
   ]
  },
  {
   "cell_type": "raw",
   "id": "433a46e2",
   "metadata": {},
   "source": [
    "7)The included code stub will read an integer, , from STDIN.\n",
    "\n",
    "Without using any string methods, try to print the following:\n",
    "    12345\n",
    "\n",
    "\n"
   ]
  },
  {
   "cell_type": "code",
   "execution_count": 44,
   "id": "e30b0f3c",
   "metadata": {},
   "outputs": [
    {
     "name": "stdout",
     "output_type": "stream",
     "text": [
      "Enter the number4\n",
      "1\n",
      "2\n",
      "3\n",
      "4\n"
     ]
    }
   ],
   "source": [
    "n = int(input(\"Enter the number\"))\n",
    "for i in range(1,n+1):\n",
    "    print(i)\n"
   ]
  },
  {
   "cell_type": "raw",
   "id": "46660bb3",
   "metadata": {},
   "source": []
  },
  {
   "cell_type": "code",
   "execution_count": null,
   "id": "907e0f1c",
   "metadata": {},
   "outputs": [],
   "source": []
  },
  {
   "cell_type": "code",
   "execution_count": null,
   "id": "29036247",
   "metadata": {},
   "outputs": [],
   "source": []
  }
 ],
 "metadata": {
  "kernelspec": {
   "display_name": "Python 3 (ipykernel)",
   "language": "python",
   "name": "python3"
  },
  "language_info": {
   "codemirror_mode": {
    "name": "ipython",
    "version": 3
   },
   "file_extension": ".py",
   "mimetype": "text/x-python",
   "name": "python",
   "nbconvert_exporter": "python",
   "pygments_lexer": "ipython3",
   "version": "3.9.12"
  }
 },
 "nbformat": 4,
 "nbformat_minor": 5
}
