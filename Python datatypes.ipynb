{
 "cells": [
  {
   "cell_type": "markdown",
   "id": "f616036d",
   "metadata": {},
   "source": [
    "# HackerRank Task2\n"
   ]
  },
  {
   "cell_type": "raw",
   "id": "331e732f",
   "metadata": {},
   "source": [
    "8)Let's learn about list comprehensions! You are given three integers x,y and z  representing the dimensions of a cuboid along with an integer n . Print a list of all possible coordinates given by (i,j,k) on a 3D grid where the sum of i+j+k is not equal ton . Here, 0<=i<=x,0<=j<=y,0<=k<=z. Please use list comprehensions rather than multiple loops, as a learning exercise."
   ]
  },
  {
   "cell_type": "code",
   "execution_count": 1,
   "id": "e5c2e3c6",
   "metadata": {},
   "outputs": [
    {
     "name": "stdout",
     "output_type": "stream",
     "text": [
      "1\n",
      "1\n",
      "1\n",
      "1\n",
      "[[0, 0, 0], [0, 1, 1], [1, 0, 1], [1, 1, 0], [1, 1, 1]]\n"
     ]
    }
   ],
   "source": [
    "if __name__ == '__main__':\n",
    "    x = int(input())\n",
    "    y = int(input())\n",
    "    z = int(input())\n",
    "    n = int(input())\n",
    "    \n",
    "    \n",
    "    \n",
    "print(list([i,j,k] for i in range(x+1)\n",
    "    for j in range(y+1)\n",
    "        for k in range(z+1)\n",
    "            if i+j+k!=n))\n"
   ]
  },
  {
   "cell_type": "code",
   "execution_count": null,
   "id": "dcac8f20",
   "metadata": {},
   "outputs": [],
   "source": []
  },
  {
   "cell_type": "code",
   "execution_count": null,
   "id": "33e2ecdf",
   "metadata": {},
   "outputs": [
    {
     "name": "stdout",
     "output_type": "stream",
     "text": [
      "12\n",
      "insert 0 5\n",
      "insert 1 10\n",
      "insert 0 6\n",
      "print\n",
      "[6, 5, 10]\n",
      "remove 6\n",
      "append 9\n",
      "append 1\n",
      "sort\n",
      "print\n",
      "[1, 5, 9, 10]\n",
      "reverse\n",
      "print\n",
      "[10, 9, 5, 1]\n"
     ]
    }
   ],
   "source": [
    "N = int(input())\n",
    "list=[]\n",
    "for i in range(0,N):\n",
    "    cmd=input().split();\n",
    "    if cmd[0] == \"insert\":\n",
    "        list.insert(int(cmd[1]),int(cmd[2]))\n",
    "    elif cmd[0] == \"append\":\n",
    "        list.append(int(cmd[1]))\n",
    "    elif cmd[0] == \"pop\":\n",
    "        list.pop();\n",
    "    elif cmd[0] == \"print\":\n",
    "         print(list)\n",
    "    elif cmd[0] == \"remove\":\n",
    "        list.remove(int(cmd[1]))\n",
    "    elif cmd[0] == \"sort\":\n",
    "         list.sort();\n",
    "    else:\n",
    "        list.reverse();\n",
    "\n"
   ]
  },
  {
   "cell_type": "code",
   "execution_count": null,
   "id": "a179a883",
   "metadata": {},
   "outputs": [],
   "source": [
    "s=\"HackerRank\"\n",
    "s = set()\n",
    "for i in range(int(input())):\n",
    "    s.add(input())\n",
    "print(len(s))"
   ]
  },
  {
   "cell_type": "raw",
   "id": "62a2f814",
   "metadata": {},
   "source": [
    "2)Apply your knowledge of the .add() operation to help your friend Rupal.\n",
    "\n",
    "Rupal has a huge collection of country stamps. She decided to count the total number of distinct country stamps in her collection. She asked for your help. You pick the stamps one by one from a stack of N country stamps."
   ]
  },
  {
   "cell_type": "code",
   "execution_count": 5,
   "id": "27b4776d",
   "metadata": {},
   "outputs": [
    {
     "name": "stdout",
     "output_type": "stream",
     "text": [
      "3\n",
      "UK\n",
      "India\n",
      "UK\n",
      "2\n"
     ]
    }
   ],
   "source": [
    "#Input=\"UK\" , \"China\", \"USA\", \"France\", \"New Zealand\" ,\"UK\", \"France\")\n",
    "N = set()\n",
    "for i in range(int(input())):\n",
    "    N.add(input())\n",
    "print(len(N))\n"
   ]
  },
  {
   "cell_type": "raw",
   "id": "073624b8",
   "metadata": {},
   "source": [
    "You have a non-empty set , and you have to execute  commands given in  lines.\n",
    "\n",
    "The commands will be pop, remove and discard.\n",
    "\n",
    "Input Format\n",
    "\n",
    "The first line contains integer N8, the number of elements in the set .\n",
    "The second line contains  space separated elements of set . All of the elements are non-negative integers, less than or equal to 9.\n",
    "The third line contains integer N , the number of commands.\n",
    "The next  lines contains either pop, remove and/or discard commands followed by their associated value."
   ]
  },
  {
   "cell_type": "code",
   "execution_count": 1,
   "id": "e0c40436",
   "metadata": {},
   "outputs": [
    {
     "name": "stdout",
     "output_type": "stream",
     "text": [
      "8\n",
      "1 2 3 4 5 6 7 8\n",
      "9\n",
      "pop\n",
      "remove 8\n",
      "discard 7\n",
      "discard 6\n",
      "pop\n",
      "remove 5\n",
      "discard 4\n",
      "discard 3\n",
      "discard 2\n",
      "0\n"
     ]
    }
   ],
   "source": [
    "n = int(input())\n",
    "s = set(map(int, input().split()))\n",
    "N = int(input())\n",
    "for i in range(N):\n",
    "    cmd = list(map(str, input().split()))\n",
    "    if cmd[0] == \"pop\":\n",
    "        s.pop()\n",
    "    elif cmd[0] == \"remove\":\n",
    "        try:\n",
    "            s.remove(int(cmd[1]))\n",
    "        except:\n",
    "            continue\n",
    "    elif cmd[0] == \"discard\":\n",
    "        try:\n",
    "            s.discard(int(cmd[1]))\n",
    "        except:\n",
    "            continue\n",
    "print(sum(s))"
   ]
  },
  {
   "cell_type": "raw",
   "id": "e2d2aa13",
   "metadata": {},
   "source": [
    "The provided code stub will read in a dictionary containing key/value pairs of name:[marks] for a list of students. Print the average of the marks array for the student name provided, showing 2 places after the decimal.\n",
    "The first line contains the integer n, the number of students' records. The next n lines contain the names and marks obtained by a student, each value separated by a space. The final line contains query_name, the name of a student to query."
   ]
  },
  {
   "cell_type": "code",
   "execution_count": 5,
   "id": "47018309",
   "metadata": {},
   "outputs": [
    {
     "name": "stdout",
     "output_type": "stream",
     "text": [
      "3\n",
      "veer 12 13 14\n",
      "deep 21 31 41\n",
      "krish 22 21 23\n",
      "veer\n",
      "13.00\n"
     ]
    }
   ],
   "source": [
    "n = int(input())\n",
    "student_marks = {}\n",
    "for _ in range(n):\n",
    "    name, *line = input().split()\n",
    "    scores = list(map(float, line))\n",
    "    student_marks[name] = scores\n",
    "query_name = input()\n",
    "na = student_marks[query_name]\n",
    "avg = sum(na)/len(na)\n",
    "print(\"%.2f\" % avg)\n"
   ]
  },
  {
   "cell_type": "code",
   "execution_count": 9,
   "id": "78f57d12",
   "metadata": {},
   "outputs": [
    {
     "name": "stdout",
     "output_type": "stream",
     "text": [
      "2\n",
      "1 2\n",
      "-3550055125485641917\n"
     ]
    }
   ],
   "source": [
    "n = int(input())\n",
    "\n",
    "Tuple1 = map(int, input().split())\n",
    "\n",
    "t = tuple(Tuple1)\n",
    "\n",
    "print(hash(t));\n"
   ]
  },
  {
   "cell_type": "code",
   "execution_count": null,
   "id": "a9768472",
   "metadata": {},
   "outputs": [],
   "source": [
    "#finding the avg\n"
   ]
  },
  {
   "cell_type": "code",
   "execution_count": 1,
   "id": "974897ae",
   "metadata": {},
   "outputs": [
    {
     "name": "stdout",
     "output_type": "stream",
     "text": [
      "10\n",
      "11 22 23 121\n",
      "44.25\n"
     ]
    }
   ],
   "source": [
    "def average(array):\n",
    "    # your code goes here\n",
    "    sum_arr= sum(set(array))\n",
    "    len_arr = len(set(array))\n",
    "    output = sum_arr/len_arr\n",
    "    return output\n",
    "    # Introduction to Sets in Python - Hacker Rank Solution END\n",
    "\n",
    "if __name__ == '__main__':\n",
    "    n = int(input())\n",
    "    arr = list(map(int, input().split()))\n",
    "    result = average(arr)\n",
    "    print(result)"
   ]
  },
  {
   "cell_type": "code",
   "execution_count": null,
   "id": "f3cd00c3",
   "metadata": {},
   "outputs": [],
   "source": []
  },
  {
   "cell_type": "code",
   "execution_count": 4,
   "id": "03b5f2ed",
   "metadata": {},
   "outputs": [
    {
     "name": "stdout",
     "output_type": "stream",
     "text": [
      "6\n",
      "1 2 3 4 5 6\n",
      "7\n",
      "1 2 3 5 7 9 \n",
      "8\n"
     ]
    }
   ],
   "source": [
    "N = int(input())\n",
    "English = set(input().split());\n",
    "n = int(input())\n",
    "French = set(input().split());\n",
    "storage = English.union(French)\n",
    "print(len(storage))"
   ]
  },
  {
   "cell_type": "code",
   "execution_count": 6,
   "id": "75640e8e",
   "metadata": {},
   "outputs": [
    {
     "name": "stdout",
     "output_type": "stream",
     "text": [
      "5\n",
      "1 2 3 4\n",
      "4\n",
      "1 6 7 8\n",
      "1\n"
     ]
    }
   ],
   "source": [
    "N = int(input())\n",
    "English = set(input().split());\n",
    "n = int(input())\n",
    "French = set(input().split());\n",
    "storage = English.intersection(French)\n",
    "print(len(storage))"
   ]
  },
  {
   "cell_type": "code",
   "execution_count": 7,
   "id": "b05df13a",
   "metadata": {},
   "outputs": [
    {
     "name": "stdout",
     "output_type": "stream",
     "text": [
      "5\n",
      "1 2 3 4 \n",
      "7\n",
      "1 3 5 6\n",
      "2\n"
     ]
    }
   ],
   "source": [
    "N=int(input())\n",
    "English = set(input().split())\n",
    "n=int(input())\n",
    "French = set(input().split())\n",
    "storage = (English-French)\n",
    "print(len(storage))"
   ]
  },
  {
   "cell_type": "code",
   "execution_count": 8,
   "id": "143372b8",
   "metadata": {},
   "outputs": [
    {
     "name": "stdout",
     "output_type": "stream",
     "text": [
      "5\n",
      "1 2 3 4 5 6\n",
      "5\n",
      "1 2 3 5 7 8\n",
      "4\n"
     ]
    }
   ],
   "source": [
    "N=int(input())\n",
    "English=set(input().split())\n",
    "n=int(input())\n",
    "French = set(input().split())\n",
    "storage=English.symmetric_difference(French)\n",
    "print(len(storage))"
   ]
  },
  {
   "cell_type": "code",
   "execution_count": 10,
   "id": "d01ef64b",
   "metadata": {},
   "outputs": [
    {
     "name": "stdout",
     "output_type": "stream",
     "text": [
      "16\n",
      "1 2 3 4 5 6 7 8 9 10 11 12 13 14 24 52\n",
      "4\n",
      " intersection_update 10\n",
      "2 3 5 6 9 1 4 7 11\n",
      "update 2\n",
      "55 66\n",
      " symmetric_difference_update 5\n",
      " 22 7 35 62 58\n",
      " difference_update 7\n",
      " 11 22 35 55 58 62 66\n",
      "30\n"
     ]
    }
   ],
   "source": [
    "A = int(input())\n",
    "storage = set(map(int, input().split()))\n",
    "N = int(input())\n",
    "for i in range(N):\n",
    "    operation = input().split()\n",
    "    if operation[0] == 'intersection_update':\n",
    "        temp_storage = set(map(int, input().split()))\n",
    "        storage.intersection_update(temp_storage)\n",
    "    elif operation[0] == 'update':\n",
    "        temp_storage = set(map(int, input().split()))\n",
    "        storage.update(temp_storage)\n",
    "    elif operation[0] == 'symmetric_difference_update':\n",
    "        temp_storage = set(map(int, input().split()))\n",
    "        storage.symmetric_difference_update(temp_storage)\n",
    "    elif operation[0] == 'difference_update':\n",
    "        temp_storage = set(map(int, input().split()))\n",
    "        storage.difference_update(temp_storage)\n",
    "    else :\n",
    "        assert False\n",
    "\n",
    "print(sum(storage))"
   ]
  },
  {
   "cell_type": "code",
   "execution_count": 16,
   "id": "d0ed7abc",
   "metadata": {},
   "outputs": [
    {
     "name": "stdout",
     "output_type": "stream",
     "text": [
      "4\n",
      "2 4 5 \n",
      "4\n"
     ]
    }
   ],
   "source": [
    "#RunnerUp score\n",
    "n = int(input())\n",
    "arr = map(int, input().split())\n",
    "arr2 = list(set(arr))\n",
    "arr2.sort()\n",
    "print(arr2[-2])     "
   ]
  },
  {
   "cell_type": "code",
   "execution_count": 1,
   "id": "9a3b7b96",
   "metadata": {},
   "outputs": [
    {
     "name": "stdout",
     "output_type": "stream",
     "text": [
      "3\n",
      "veer\n",
      "32\n",
      "deep\n",
      "43\n",
      "nev\n",
      "21\n",
      "veer\n"
     ]
    }
   ],
   "source": [
    "Result =[]\n",
    "scorelist = []\n",
    "for _ in range(int(input())):\n",
    "    name = input()\n",
    "    score = float(input())\n",
    "    Result+=[[name,score]]\n",
    "    scorelist+=[score]\n",
    "b=sorted(list(set(scorelist)))[1] \n",
    "    \n",
    "for a,c in sorted(Result):\n",
    "        if c==b:\n",
    "            print(a)\n"
   ]
  },
  {
   "cell_type": "code",
   "execution_count": null,
   "id": "0a5bfeb5",
   "metadata": {},
   "outputs": [],
   "source": []
  },
  {
   "cell_type": "code",
   "execution_count": 1,
   "id": "53a23304",
   "metadata": {},
   "outputs": [
    {
     "name": "stdout",
     "output_type": "stream",
     "text": [
      "1\n",
      "1 2\n",
      "-3550055125485641917\n"
     ]
    }
   ],
   "source": [
    "    n = int(input())\n",
    "    integer_list = map(int, input().split())\n",
    "\n",
    "    t = tuple(integer_list)\n",
    "\n",
    "    print(hash(t));\n",
    "\n",
    "    "
   ]
  },
  {
   "cell_type": "code",
   "execution_count": null,
   "id": "a266924d",
   "metadata": {},
   "outputs": [],
   "source": []
  },
  {
   "cell_type": "code",
   "execution_count": 5,
   "id": "4f38a5df",
   "metadata": {},
   "outputs": [
    {
     "name": "stdout",
     "output_type": "stream",
     "text": [
      "4\n",
      "1 2 3 4\n",
      "4\n",
      "3 4 2 11\n",
      "1\n",
      "11\n"
     ]
    }
   ],
   "source": [
    "M = int(input())\n",
    "Msp = set(map(int, input().split()))\n",
    "N = int(input())\n",
    "Nsp = set(map(int, input().split()))\n",
    "\n",
    "Mdef = Msp.difference(Nsp)\n",
    "Ndef = Nsp.difference(Msp)\n",
    "\n",
    "output = Mdef.union(Ndef)\n",
    "\n",
    "for i in sorted(list(output)):\n",
    "    print(i)"
   ]
  },
  {
   "cell_type": "code",
   "execution_count": null,
   "id": "a8d1d726",
   "metadata": {},
   "outputs": [],
   "source": []
  },
  {
   "cell_type": "code",
   "execution_count": null,
   "id": "8a7030e9",
   "metadata": {},
   "outputs": [],
   "source": [
    "#Mutations\n",
    "len_set = int(input())\n",
    "\n",
    "storage = set(map(int, input().split()))\n",
    "\n",
    "op_len = int(input())\n",
    "\n",
    "for i in range(op_len):\n",
    "    operation = input().split()\n",
    "    if operation[0] == 'intersection_update':\n",
    "        temp_storage = set(map(int, input().split()))\n",
    "        storage.intersection_update(temp_storage)\n",
    "    elif operation[0] == 'update':\n",
    "        temp_storage = set(map(int, input().split()))\n",
    "        storage.update(temp_storage)\n",
    "    elif operation[0] == 'symmetric_difference_update':\n",
    "        temp_storage = set(map(int, input().split()))\n",
    "        storage.symmetric_difference_update(temp_storage)\n",
    "    elif operation[0] == 'difference_update':\n",
    "        temp_storage = set(map(int, input().split()))\n",
    "        storage.difference_update(temp_storage)\n",
    "    else :\n",
    "        assert False\n",
    "\n",
    "print(sum(storage))"
   ]
  },
  {
   "cell_type": "code",
   "execution_count": null,
   "id": "74abdb11",
   "metadata": {},
   "outputs": [],
   "source": []
  },
  {
   "cell_type": "code",
   "execution_count": 3,
   "id": "38c37512",
   "metadata": {},
   "outputs": [
    {
     "name": "stdout",
     "output_type": "stream",
     "text": [
      "5\n",
      "1 2 3 4 5 1 2 3 4 5 1 2 3 4 5 1 2 3 4 5 1 2 3 4 5 1 2 8 3 4 5\n",
      "8\n"
     ]
    }
   ],
   "source": [
    "#Captains room\n",
    "N = int(input())\n",
    "\n",
    "storage = map(int, input().split())\n",
    "storage = sorted(storage)\n",
    "\n",
    "for i in range(len(storage)):\n",
    "    if(i != len(storage)-1):\n",
    "        if(storage[i]!=storage[i-1] and storage[i]!=storage[i+1]):\n",
    "            print(storage[i])\n",
    "            break;\n",
    "    else:\n",
    "        print(storage[i])"
   ]
  },
  {
   "cell_type": "code",
   "execution_count": 6,
   "id": "12a929f8",
   "metadata": {},
   "outputs": [
    {
     "name": "stdout",
     "output_type": "stream",
     "text": [
      "3\n",
      "4\n",
      "1 2 3 4\n",
      "5\n",
      "1 2 34 5 5\n",
      "False\n",
      "4\n",
      "3\n",
      "4\n",
      "1 2 3 4\n",
      "True\n",
      "3\n",
      "1 2 3\n",
      "4\n",
      "1 2 3 4\n",
      "True\n"
     ]
    }
   ],
   "source": [
    "#subset\n",
    "T = int(input())\n",
    "\n",
    "for _ in range(T):\n",
    "    a = input()\n",
    "    A = set(input().split())\n",
    "    b = int(input())\n",
    "    B = set(input().split())\n",
    "    print(A.issubset(B))"
   ]
  },
  {
   "cell_type": "code",
   "execution_count": 10,
   "id": "eaceabbf",
   "metadata": {},
   "outputs": [
    {
     "name": "stdout",
     "output_type": "stream",
     "text": [
      "1 2 3 4\n",
      "3\n",
      "2 3 5\n",
      "2 1\n",
      "2\n",
      "False\n"
     ]
    }
   ],
   "source": [
    "#strict super set\n",
    "storage = set(input().split())\n",
    "N = int(input())\n",
    "output = True\n",
    "\n",
    "for i in range(N):\n",
    "    storage2 = set(input().split())\n",
    "    if not storage2.issubset(storage):\n",
    "        output = False\n",
    "    if len(storage2) >= len(storage):\n",
    "        output = False\n",
    "\n",
    "print(output)"
   ]
  },
  {
   "cell_type": "code",
   "execution_count": null,
   "id": "1ce7e66c",
   "metadata": {},
   "outputs": [],
   "source": []
  }
 ],
 "metadata": {
  "kernelspec": {
   "display_name": "Python 3 (ipykernel)",
   "language": "python",
   "name": "python3"
  },
  "language_info": {
   "codemirror_mode": {
    "name": "ipython",
    "version": 3
   },
   "file_extension": ".py",
   "mimetype": "text/x-python",
   "name": "python",
   "nbconvert_exporter": "python",
   "pygments_lexer": "ipython3",
   "version": "3.9.12"
  }
 },
 "nbformat": 4,
 "nbformat_minor": 5
}
