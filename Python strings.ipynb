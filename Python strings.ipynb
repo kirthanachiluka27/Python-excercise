{
 "cells": [
  {
   "cell_type": "code",
   "execution_count": 1,
   "id": "84b1defc",
   "metadata": {},
   "outputs": [
    {
     "name": "stdout",
     "output_type": "stream",
     "text": [
      "My naMe is KirthANa\n",
      "mY NAmE IS kIRTHanA\n"
     ]
    }
   ],
   "source": [
    "def swap_case(s):\n",
    "    swap=\"\"\n",
    "    for char in s:\n",
    "        if char.upper()!=char:\n",
    "            swap=swap+char.upper()\n",
    "        elif char.lower()!=char:\n",
    "            swap=swap+char.lower()\n",
    "        else:\n",
    "            swap=swap+char\n",
    "    \n",
    "    return swap\n",
    "\n",
    "if __name__ == '__main__':\n",
    "    s = input()\n",
    "    result = swap_case(s)\n",
    "    print(result)"
   ]
  },
  {
   "cell_type": "raw",
   "id": "f38b9512",
   "metadata": {},
   "source": [
    "You are given a string. Split the string on a \" \" (space) delimiter and join using a - hyphen."
   ]
  },
  {
   "cell_type": "code",
   "execution_count": 2,
   "id": "54bd37aa",
   "metadata": {},
   "outputs": [
    {
     "name": "stdout",
     "output_type": "stream",
     "text": [
      "ramya is a good girl\n",
      "ramya-is-a-good-girl\n"
     ]
    }
   ],
   "source": [
    "def split_and_join(line):\n",
    "  \n",
    "    a = line.split(\" \")\n",
    "    a = \"-\".join(a)\n",
    "    return a\n",
    "\n",
    "\n",
    "    # write your code here\n",
    "\n",
    "if __name__ == '__main__':\n",
    "    line = input()\n",
    "    result = split_and_join(line)\n",
    "    print(result)"
   ]
  },
  {
   "cell_type": "raw",
   "id": "e52149e3",
   "metadata": {},
   "source": [
    "You are given the firstname and lastname of a person on two different lines. Your task is to read them and print the following:"
   ]
  },
  {
   "cell_type": "code",
   "execution_count": 1,
   "id": "d6077e0f",
   "metadata": {},
   "outputs": [
    {
     "name": "stdout",
     "output_type": "stream",
     "text": [
      "Enter first nameShreyansh\n",
      "Enter last nameKurapati\n",
      "Hello Shreyansh Kurapati! Yor are really doing well.\n"
     ]
    }
   ],
   "source": [
    "def print_full_name(first, last):\n",
    "        print(\"Hello \" + first, last + \"! Yor are really doing well.\")\n",
    "\n",
    "    # Write your code here\n",
    "    \n",
    "\n",
    "if __name__ == '__main__':\n",
    "    first_name = input(\"Enter first name\")\n",
    "    last_name = input(\"Enter last name\")\n",
    "    print_full_name(first_name, last_name)"
   ]
  },
  {
   "cell_type": "raw",
   "id": "ef173618",
   "metadata": {},
   "source": [
    "\n",
    "In this challenge, the user enters a string and a substring. You have to print the number of times that the substring occurs in the given string. String traversal will take place from left to right, not from right to left."
   ]
  },
  {
   "cell_type": "code",
   "execution_count": 7,
   "id": "aee863fa",
   "metadata": {},
   "outputs": [
    {
     "name": "stdout",
     "output_type": "stream",
     "text": [
      "abvab\n",
      "ab\n",
      "2\n"
     ]
    }
   ],
   "source": [
    "def count_substring(string, sub_string):\n",
    "    count = 0\n",
    "    #for i in range(len(a)-len(b)+1)\n",
    "    for i in range(len(string)-len(sub_string)+1):\n",
    "        if (string[i:i+len(sub_string)] == sub_string):\n",
    "            count += 1\n",
    "    return count\n",
    "if __name__ == '__main__':\n",
    "    string = input().strip()\n",
    "    sub_string = input().strip()\n",
    "    \n",
    "    count = count_substring(string, sub_string)\n",
    "    print(count)"
   ]
  },
  {
   "cell_type": "code",
   "execution_count": null,
   "id": "4b753e9d",
   "metadata": {},
   "outputs": [],
   "source": []
  },
  {
   "cell_type": "code",
   "execution_count": 3,
   "id": "190e31a5",
   "metadata": {},
   "outputs": [
    {
     "name": "stdout",
     "output_type": "stream",
     "text": [
      "mutasion\n",
      "4 t\n",
      "mutation\n"
     ]
    }
   ],
   "source": [
    "def mutate_string(string, position, character):\n",
    "    n = list(string)\n",
    "    n[position] = character\n",
    "    string = \"\".join(n)\n",
    "    \n",
    "    return string\n",
    "\n",
    "if __name__ == '__main__':\n",
    "    s = input()\n",
    "    i, c = input().split()\n",
    "    s_new = mutate_string(s, int(i), c)\n",
    "    print(s_new)"
   ]
  },
  {
   "cell_type": "code",
   "execution_count": null,
   "id": "21d953c2",
   "metadata": {},
   "outputs": [],
   "source": []
  },
  {
   "cell_type": "code",
   "execution_count": 5,
   "id": "0e27edbb",
   "metadata": {},
   "outputs": [
    {
     "name": "stdout",
     "output_type": "stream",
     "text": [
      "dS3\n",
      "True\n",
      "True\n",
      "True\n",
      "True\n",
      "True\n"
     ]
    }
   ],
   "source": [
    "s = input()\n",
    "print(any(map(str.isalnum, s)))\n",
    "print(any(map(str.isalpha, s)))\n",
    "print(any(map(str.isdigit, s)))\n",
    "print(any(map(str.islower, s)))\n",
    "print(any(map(str.isupper, s)))\n"
   ]
  },
  {
   "cell_type": "code",
   "execution_count": null,
   "id": "131f8b54",
   "metadata": {},
   "outputs": [],
   "source": []
  },
  {
   "cell_type": "code",
   "execution_count": 6,
   "id": "e6545741",
   "metadata": {},
   "outputs": [
    {
     "name": "stdout",
     "output_type": "stream",
     "text": [
      "5\n",
      "    H    \n",
      "   HHH   \n",
      "  HHHHH  \n",
      " HHHHHHH \n",
      "HHHHHHHHH\n",
      "  HHHHH               HHHHH             \n",
      "  HHHHH               HHHHH             \n",
      "  HHHHH               HHHHH             \n",
      "  HHHHH               HHHHH             \n",
      "  HHHHH               HHHHH             \n",
      "  HHHHH               HHHHH             \n",
      "  HHHHHHHHHHHHHHHHHHHHHHHHH   \n",
      "  HHHHHHHHHHHHHHHHHHHHHHHHH   \n",
      "  HHHHHHHHHHHHHHHHHHHHHHHHH   \n",
      "  HHHHH               HHHHH             \n",
      "  HHHHH               HHHHH             \n",
      "  HHHHH               HHHHH             \n",
      "  HHHHH               HHHHH             \n",
      "  HHHHH               HHHHH             \n",
      "  HHHHH               HHHHH             \n",
      "                    HHHHHHHHH \n",
      "                     HHHHHHH  \n",
      "                      HHHHH   \n",
      "                       HHH    \n",
      "                        H     \n"
     ]
    }
   ],
   "source": [
    "thickness = int(input())\n",
    "c = 'H'\n",
    "#Top Cone\n",
    "for i in range(thickness):\n",
    "    print((c*i).rjust(thickness-1)+c+(c*i).ljust(thickness-1))\n",
    "#Top Pillars\n",
    "for i in range(thickness+1):\n",
    "    print((c*thickness).center(thickness*2)+(c*thickness).center(thickness*6))\n",
    "#Middle Belt\n",
    "for i in range((thickness+1)//2):\n",
    "    print((c*thickness*5).center(thickness*6))    \n",
    "#Bottom Pillars\n",
    "for i in range(thickness+1):\n",
    "    print((c*thickness).center(thickness*2)+(c*thickness).center(thickness*6))    \n",
    "#Bottom Cone\n",
    "for i in range(thickness):\n",
    "    print(((c*(thickness-i-1)).rjust(thickness)+c+(c*(thickness-i-1)).ljust(thickness)).rjust(thickness*6))\n"
   ]
  },
  {
   "cell_type": "code",
   "execution_count": null,
   "id": "420d5ad2",
   "metadata": {},
   "outputs": [],
   "source": []
  },
  {
   "cell_type": "code",
   "execution_count": 7,
   "id": "58b10074",
   "metadata": {},
   "outputs": [
    {
     "name": "stdout",
     "output_type": "stream",
     "text": [
      "abcdefghijklmnopqrstuvwxyz\n",
      "4\n",
      "abcd\n",
      "efgh\n",
      "ijkl\n",
      "mnop\n",
      "qrst\n",
      "uvwx\n",
      "yz\n"
     ]
    }
   ],
   "source": [
    "import textwrap\n",
    "\n",
    "def wrap(string, max_width):\n",
    "    \n",
    "    return textwrap.fill(string, max_width)\n",
    "\n",
    "\n",
    "if __name__ == '__main__':\n",
    "    string, max_width = input(), int(input())\n",
    "    result = wrap(string, max_width)\n",
    "    print(result)"
   ]
  },
  {
   "cell_type": "code",
   "execution_count": null,
   "id": "f7d8979f",
   "metadata": {},
   "outputs": [],
   "source": []
  },
  {
   "cell_type": "code",
   "execution_count": null,
   "id": "286be82a",
   "metadata": {},
   "outputs": [],
   "source": []
  },
  {
   "cell_type": "code",
   "execution_count": 25,
   "id": "9862f3c8",
   "metadata": {},
   "outputs": [
    {
     "name": "stdout",
     "output_type": "stream",
     "text": [
      "6\n",
      "1\n",
      "2\n",
      "Fizz\n",
      "4\n",
      "Buzz\n",
      "Fizz\n"
     ]
    }
   ],
   "source": [
    "def fizzBuzz(n):\n",
    "    # Write your code here\n",
    "    for i in range(1,n+1):\n",
    "        if i%3==0 and i%5==0:\n",
    "            print(\"FizzBuzz\")\n",
    "        elif i%3==0 and i%5!=0:\n",
    "            print(\"Fizz\")\n",
    "        elif i%5==0 and i%3!=0 :\n",
    "            print(\"Buzz\")\n",
    "        elif i%3!=0 and i%5!=0:\n",
    "            print(i)\n",
    "            \n",
    "            \n",
    "\n",
    "if __name__ == '__main__':\n",
    "    \n",
    "    n = int(input().strip())\n",
    "\n",
    "    fizzBuzz(n)"
   ]
  },
  {
   "cell_type": "code",
   "execution_count": null,
   "id": "381e9bbb",
   "metadata": {},
   "outputs": [],
   "source": []
  }
 ],
 "metadata": {
  "kernelspec": {
   "display_name": "Python 3 (ipykernel)",
   "language": "python",
   "name": "python3"
  },
  "language_info": {
   "codemirror_mode": {
    "name": "ipython",
    "version": 3
   },
   "file_extension": ".py",
   "mimetype": "text/x-python",
   "name": "python",
   "nbconvert_exporter": "python",
   "pygments_lexer": "ipython3",
   "version": "3.9.12"
  }
 },
 "nbformat": 4,
 "nbformat_minor": 5
}
